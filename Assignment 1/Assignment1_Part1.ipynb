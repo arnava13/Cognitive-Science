{
 "cells": [
  {
   "cell_type": "code",
   "execution_count": 46,
   "id": "a0795bce",
   "metadata": {
    "deletable": false,
    "editable": false,
    "nbgrader": {
     "cell_type": "code",
     "checksum": "b0434c0280487cdd50e87988dd651787",
     "grade": false,
     "grade_id": "cell-87141a7faf37ab4f",
     "locked": true,
     "schema_version": 3,
     "solution": false,
     "task": false
    }
   },
   "outputs": [],
   "source": [
    "# this is to plot inside the notebook\n",
    "%matplotlib inline\n",
    "\n",
    "# these are the libraries we are going to use\n",
    "import numpy as np\n",
    "import matplotlib.pyplot as plt\n",
    "import matplotlib\n",
    "\n",
    "# we are also going to use helper functions from the RM1985.py file\n",
    "from RM1985 import *\n",
    "\n",
    "matplotlib.style.use('seaborn-notebook')\n",
    "\n",
    "import warnings\n",
    "warnings.filterwarnings('ignore')\n",
    "\n",
    "np.random.seed(2222)"
   ]
  },
  {
   "cell_type": "markdown",
   "id": "344dfe07",
   "metadata": {
    "deletable": false,
    "editable": false,
    "nbgrader": {
     "cell_type": "markdown",
     "checksum": "42ae40ccd3ed42f3a3aecc6ab994f453",
     "grade": false,
     "grade_id": "cell-b9a0c3e39d6002b8",
     "locked": true,
     "schema_version": 3,
     "solution": false,
     "task": false
    }
   },
   "source": [
    "# Asssignment 1 Part 1\n",
    "\n",
    "In this part of the assignment, we're going to replicate Rumelhart and McClelland RM (1985)'s model of the past tense (pictured below).\n",
    "If you're itching to read the source paper, it's included in the Assignment 1 directory and may be a handy reference. We're going to walk through the necessary components here.\n",
    "\n",
    "![](images/modelStructure.png)\n",
    "\n",
    "\n",
    "## Encoding the input\n",
    "\n",
    "Recall from lecture, the model uses a phonological representation called wickelfeatures. \n",
    "\n",
    "Words (e.g., came) are translated into phonemes (e.g., kAm).\n",
    "\n",
    "Phonemes are converted into a binary code based on their articulatory features (see below).\n",
    "Remember that in RM's model we use wickelphones (triplets of phonemes; e.g., #kA, kAm, Am#)"
   ]
  },
  {
   "cell_type": "code",
   "execution_count": 47,
   "id": "8abd8655",
   "metadata": {
    "deletable": false,
    "editable": false,
    "nbgrader": {
     "cell_type": "code",
     "checksum": "9eeba9358c4aea798ef89bb6acf5e2a7",
     "grade": false,
     "grade_id": "cell-244a5775a0412303",
     "locked": true,
     "schema_version": 3,
     "solution": false,
     "task": false
    }
   },
   "outputs": [
    {
     "data": {
      "text/plain": [
       "[['0000000000', '1001000101', '0010110010'],\n",
       " ['1001000101', '0010110010', '1000110010'],\n",
       " ['0010110010', '1000110010', '0000000000']]"
      ]
     },
     "execution_count": 47,
     "metadata": {},
     "output_type": "execute_result"
    }
   ],
   "source": [
    "word_to_wickelphone('kAm')"
   ]
  },
  {
   "cell_type": "markdown",
   "id": "899231ce",
   "metadata": {
    "deletable": false,
    "editable": false,
    "nbgrader": {
     "cell_type": "markdown",
     "checksum": "fc0b8ce95b872d524782556433efa6fd",
     "grade": false,
     "grade_id": "cell-37823280eff4f942",
     "locked": true,
     "schema_version": 3,
     "solution": false,
     "task": false
    }
   },
   "source": [
    "In practice, we also add a bit representing if a wickelphone touches a word boundary, resulting in an 11 bit code for each phoneme. You will not need the specifics of the code for this assignment.\n",
    "\n",
    "Wickelphones are converted into wickelfeatures by taking one of the bits from the first phoneme in a wickelphone, one of the bits from the second phoneme, and one of the bits from the third. In theory then, there are 11 * 11 * 11 possible wickelfeatures. However, in practice a lot of these combinations are redundant and we can represent all informative combinations with 460 wickelfeatures. If you're really itching for the details they're in the paper.\n",
    "\n",
    "Luckily, we have a helper function that will do all of this encoding for us: `activate_word`"
   ]
  },
  {
   "cell_type": "code",
   "execution_count": 48,
   "id": "34483cff",
   "metadata": {
    "deletable": false,
    "editable": false,
    "nbgrader": {
     "cell_type": "code",
     "checksum": "af4b9f0eb4dcdc747f156213f0b44afd",
     "grade": false,
     "grade_id": "cell-65d0a0d329fd8fda",
     "locked": true,
     "schema_version": 3,
     "solution": false,
     "task": false
    }
   },
   "outputs": [
    {
     "data": {
      "text/plain": [
       "[0,\n",
       " 0,\n",
       " 0,\n",
       " 0,\n",
       " 0,\n",
       " 0,\n",
       " 1,\n",
       " 0,\n",
       " 0,\n",
       " 0,\n",
       " 0,\n",
       " 0,\n",
       " 1,\n",
       " 0,\n",
       " 0,\n",
       " 1,\n",
       " 0,\n",
       " 0,\n",
       " 0,\n",
       " 0,\n",
       " 0,\n",
       " 0,\n",
       " 0,\n",
       " 0,\n",
       " 1,\n",
       " 0,\n",
       " 0,\n",
       " 0,\n",
       " 0,\n",
       " 0,\n",
       " 0,\n",
       " 0,\n",
       " 0,\n",
       " 0,\n",
       " 0,\n",
       " 0,\n",
       " 0,\n",
       " 0,\n",
       " 0,\n",
       " 0,\n",
       " 0,\n",
       " 0,\n",
       " 0,\n",
       " 0,\n",
       " 0,\n",
       " 0,\n",
       " 0,\n",
       " 0,\n",
       " 0,\n",
       " 0,\n",
       " 0,\n",
       " 0,\n",
       " 0,\n",
       " 0,\n",
       " 0,\n",
       " 0,\n",
       " 0,\n",
       " 0,\n",
       " 0,\n",
       " 0,\n",
       " 0,\n",
       " 0,\n",
       " 0,\n",
       " 0,\n",
       " 0,\n",
       " 0,\n",
       " 0,\n",
       " 0,\n",
       " 0,\n",
       " 0,\n",
       " 0,\n",
       " 0,\n",
       " 0,\n",
       " 0,\n",
       " 0,\n",
       " 0,\n",
       " 0,\n",
       " 0,\n",
       " 0,\n",
       " 0,\n",
       " 0,\n",
       " 0,\n",
       " 0,\n",
       " 0,\n",
       " 0,\n",
       " 0,\n",
       " 0,\n",
       " 0,\n",
       " 0,\n",
       " 0,\n",
       " 0,\n",
       " 0,\n",
       " 0,\n",
       " 0,\n",
       " 0,\n",
       " 1,\n",
       " 0,\n",
       " 0,\n",
       " 0,\n",
       " 1,\n",
       " 0,\n",
       " 1,\n",
       " 0,\n",
       " 0,\n",
       " 0,\n",
       " 0,\n",
       " 0,\n",
       " 1,\n",
       " 0,\n",
       " 0,\n",
       " 0,\n",
       " 0,\n",
       " 0,\n",
       " 0,\n",
       " 0,\n",
       " 0,\n",
       " 0,\n",
       " 0,\n",
       " 0,\n",
       " 0,\n",
       " 0,\n",
       " 0,\n",
       " 0,\n",
       " 0,\n",
       " 0,\n",
       " 0,\n",
       " 0,\n",
       " 0,\n",
       " 0,\n",
       " 0,\n",
       " 0,\n",
       " 0,\n",
       " 0,\n",
       " 0,\n",
       " 0,\n",
       " 0,\n",
       " 0,\n",
       " 0,\n",
       " 0,\n",
       " 0,\n",
       " 0,\n",
       " 0,\n",
       " 0,\n",
       " 0,\n",
       " 0,\n",
       " 0,\n",
       " 0,\n",
       " 0,\n",
       " 0,\n",
       " 0,\n",
       " 0,\n",
       " 0,\n",
       " 0,\n",
       " 0,\n",
       " 0,\n",
       " 0,\n",
       " 0,\n",
       " 0,\n",
       " 0,\n",
       " 0,\n",
       " 0,\n",
       " 0,\n",
       " 0,\n",
       " 0,\n",
       " 0,\n",
       " 0,\n",
       " 0,\n",
       " 0,\n",
       " 0,\n",
       " 0,\n",
       " 0,\n",
       " 0,\n",
       " 0,\n",
       " 0,\n",
       " 0,\n",
       " 0,\n",
       " 0,\n",
       " 0,\n",
       " 0,\n",
       " 0,\n",
       " 0,\n",
       " 0,\n",
       " 0,\n",
       " 0,\n",
       " 0,\n",
       " 0,\n",
       " 0,\n",
       " 0,\n",
       " 0,\n",
       " 0,\n",
       " 0,\n",
       " 0,\n",
       " 0,\n",
       " 0,\n",
       " 0,\n",
       " 0,\n",
       " 1,\n",
       " 0,\n",
       " 0,\n",
       " 0,\n",
       " 0,\n",
       " 0,\n",
       " 1,\n",
       " 0,\n",
       " 0,\n",
       " 1,\n",
       " 0,\n",
       " 0,\n",
       " 0,\n",
       " 0,\n",
       " 0,\n",
       " 0,\n",
       " 0,\n",
       " 0,\n",
       " 1,\n",
       " 0,\n",
       " 0,\n",
       " 0,\n",
       " 0,\n",
       " 0,\n",
       " 0,\n",
       " 0,\n",
       " 0,\n",
       " 0,\n",
       " 0,\n",
       " 0,\n",
       " 0,\n",
       " 0,\n",
       " 0,\n",
       " 0,\n",
       " 0,\n",
       " 0,\n",
       " 0,\n",
       " 0,\n",
       " 0,\n",
       " 0,\n",
       " 0,\n",
       " 0,\n",
       " 0,\n",
       " 0,\n",
       " 0,\n",
       " 0,\n",
       " 0,\n",
       " 0,\n",
       " 1,\n",
       " 0,\n",
       " 0,\n",
       " 0,\n",
       " 1,\n",
       " 0,\n",
       " 1,\n",
       " 0,\n",
       " 0,\n",
       " 0,\n",
       " 0,\n",
       " 0,\n",
       " 1,\n",
       " 0,\n",
       " 0,\n",
       " 0,\n",
       " 0,\n",
       " 0,\n",
       " 0,\n",
       " 0,\n",
       " 0,\n",
       " 0,\n",
       " 0,\n",
       " 0,\n",
       " 0,\n",
       " 0,\n",
       " 0,\n",
       " 0,\n",
       " 0,\n",
       " 0,\n",
       " 0,\n",
       " 0,\n",
       " 0,\n",
       " 0,\n",
       " 0,\n",
       " 0,\n",
       " 0,\n",
       " 0,\n",
       " 0,\n",
       " 0,\n",
       " 0,\n",
       " 0,\n",
       " 0,\n",
       " 0,\n",
       " 0,\n",
       " 0,\n",
       " 0,\n",
       " 0,\n",
       " 0,\n",
       " 0,\n",
       " 0,\n",
       " 0,\n",
       " 0,\n",
       " 0,\n",
       " 0,\n",
       " 0,\n",
       " 0,\n",
       " 0,\n",
       " 0,\n",
       " 0,\n",
       " 0,\n",
       " 0,\n",
       " 0,\n",
       " 0,\n",
       " 0,\n",
       " 0,\n",
       " 0,\n",
       " 0,\n",
       " 0,\n",
       " 0,\n",
       " 0,\n",
       " 0,\n",
       " 0,\n",
       " 0,\n",
       " 0,\n",
       " 0,\n",
       " 0,\n",
       " 0,\n",
       " 0,\n",
       " 0,\n",
       " 0,\n",
       " 0,\n",
       " 0,\n",
       " 0,\n",
       " 0,\n",
       " 0,\n",
       " 0,\n",
       " 0,\n",
       " 0,\n",
       " 0,\n",
       " 0,\n",
       " 0,\n",
       " 0,\n",
       " 0,\n",
       " 0,\n",
       " 0,\n",
       " 0,\n",
       " 0,\n",
       " 0,\n",
       " 0,\n",
       " 0,\n",
       " 0,\n",
       " 0,\n",
       " 0,\n",
       " 0,\n",
       " 0,\n",
       " 0,\n",
       " 0,\n",
       " 0,\n",
       " 0,\n",
       " 0,\n",
       " 0,\n",
       " 0,\n",
       " 0,\n",
       " 0,\n",
       " 0,\n",
       " 0,\n",
       " 0,\n",
       " 0,\n",
       " 0,\n",
       " 0,\n",
       " 0,\n",
       " 0,\n",
       " 0,\n",
       " 0,\n",
       " 0,\n",
       " 0,\n",
       " 0,\n",
       " 0,\n",
       " 0,\n",
       " 0,\n",
       " 0,\n",
       " 0,\n",
       " 0,\n",
       " 0,\n",
       " 0,\n",
       " 0,\n",
       " 0,\n",
       " 0,\n",
       " 0,\n",
       " 0,\n",
       " 0,\n",
       " 0,\n",
       " 0,\n",
       " 0,\n",
       " 0,\n",
       " 0,\n",
       " 0,\n",
       " 0,\n",
       " 0,\n",
       " 0,\n",
       " 0,\n",
       " 0,\n",
       " 0,\n",
       " 0,\n",
       " 0,\n",
       " 0,\n",
       " 0,\n",
       " 0,\n",
       " 0,\n",
       " 0,\n",
       " 0,\n",
       " 0,\n",
       " 0,\n",
       " 0,\n",
       " 0,\n",
       " 0,\n",
       " 0,\n",
       " 0,\n",
       " 0,\n",
       " 0,\n",
       " 0,\n",
       " 0,\n",
       " 0,\n",
       " 0,\n",
       " 0,\n",
       " 0,\n",
       " 0,\n",
       " 0,\n",
       " 0,\n",
       " 0,\n",
       " 0,\n",
       " 0,\n",
       " 0,\n",
       " 0,\n",
       " 0,\n",
       " 0,\n",
       " 0,\n",
       " 0,\n",
       " 0,\n",
       " 0,\n",
       " 0,\n",
       " 0,\n",
       " 0,\n",
       " 0,\n",
       " 0,\n",
       " 0,\n",
       " 0,\n",
       " 0,\n",
       " 0,\n",
       " 0,\n",
       " 0,\n",
       " 0,\n",
       " 0,\n",
       " 0,\n",
       " 0,\n",
       " 0,\n",
       " 0,\n",
       " 0,\n",
       " 0,\n",
       " 0,\n",
       " 0,\n",
       " 0,\n",
       " 0,\n",
       " 0,\n",
       " 0]"
      ]
     },
     "execution_count": 48,
     "metadata": {},
     "output_type": "execute_result"
    }
   ],
   "source": [
    "activate_word('kAm')"
   ]
  },
  {
   "cell_type": "markdown",
   "id": "8aef3425",
   "metadata": {
    "deletable": false,
    "editable": false,
    "nbgrader": {
     "cell_type": "markdown",
     "checksum": "999114bb6e620ec8f84cb8d09d1b86e2",
     "grade": false,
     "grade_id": "cell-d1840b8ac8a8f0a4",
     "locked": true,
     "schema_version": 3,
     "solution": false,
     "task": false
    }
   },
   "source": [
    "We should check some properties of our encoding function. \n",
    "\n",
    "In order to do this we first have to translate some words (e.g., came) into phonemes (e.g. kAm). \n",
    "\n",
    "A lot of letters in English map directly onto their phoneme (e.g., b -> b) however, there are a few that don't (e.g., c as in *car* is represented by a k). The table below should help you translate words into phonemes (particularly the caption helps with vowels):\n",
    "\n",
    "![](images/IPA.png)\n",
    "\n",
    "<div class=\"alert alert-info\" role=\"alert\">\n",
    "<h1>Exercise 1a)</h1>\n",
    "<p>\n",
    "Let's translate the ten high frequency words used in the paper: \n",
    "\n",
    "come/came, look/looked, feel/felt, have/had, make/made, get/got, give/gave, take/took, go/went, like/liked\n",
    "\n",
    "(Points 3)\n",
    "</p>\n",
    "</div>\n",
    "\n"
   ]
  },
  {
   "cell_type": "code",
   "execution_count": 49,
   "id": "fe52821b",
   "metadata": {
    "deletable": false,
    "nbgrader": {
     "cell_type": "code",
     "checksum": "f9a49b30db8e574bc32446c528d20bf8",
     "grade": false,
     "grade_id": "cell-731cb512d24b0cae",
     "locked": false,
     "schema_version": 3,
     "solution": true,
     "task": false
    }
   },
   "outputs": [],
   "source": [
    "# save the phoneme representations of the base verb and past tense verb here\n",
    "# keep the order in the quetion above: come, look, feel, have, make, get, give, take, go, like\n",
    "high_frequency_verbs = ['come', 'look', 'feel', 'have', 'make', 'get', 'give', 'take', 'go', 'like']\n",
    "base_high_frequency_verbs = ['k*m', 'luk', 'fEl', 'hav', 'mAk', 'get', 'giv', 'tAk', 'go', 'lIk']\n",
    "past_high_frequency_verbs = ['kAm', 'lukt', 'felt', 'had', 'mAd', 'got', 'gAv', 'tuk', 'went', 'likt']\n",
    "\n",
    "#raise NotImplementedError()"
   ]
  },
  {
   "cell_type": "code",
   "execution_count": 50,
   "id": "3874c8a8",
   "metadata": {
    "deletable": false,
    "editable": false,
    "nbgrader": {
     "cell_type": "code",
     "checksum": "31f46d53c72406ec15be47ee77d71ef2",
     "grade": true,
     "grade_id": "cell-e7dae4e9166da9cb",
     "locked": true,
     "points": 3,
     "schema_version": 3,
     "solution": false,
     "task": false
    }
   },
   "outputs": [
    {
     "name": "stdout",
     "output_type": "stream",
     "text": [
      "come Base: True\n",
      "come Past: True\n",
      "look Base: True\n",
      "look Past: True\n",
      "feel Base: True\n",
      "feel Past: True\n",
      "have Base: True\n",
      "have Past: True\n",
      "make Base: True\n",
      "make Past: True\n",
      "get Base: True\n",
      "get Past: True\n",
      "give Base: True\n",
      "give Past: True\n",
      "take Base: True\n",
      "take Past: True\n",
      "go Base: True\n",
      "go Past: True\n",
      "like Base: True\n",
      "like Past: True\n"
     ]
    }
   ],
   "source": [
    "\"\"\"Check that translation was correct\"\"\"\n",
    "for i, w in enumerate(high_frequency_verbs):\n",
    "    print(w, 'Base:', activate_word(base_high_frequency_verbs[i]) == base_HF_activations[i])\n",
    "    print(w, 'Past:', activate_word(past_high_frequency_verbs[i]) == past_HF_activations[i])\n",
    "\n",
    "    "
   ]
  },
  {
   "cell_type": "markdown",
   "id": "63f2e773",
   "metadata": {
    "deletable": false,
    "editable": false,
    "nbgrader": {
     "cell_type": "markdown",
     "checksum": "70b19776b8f46c944f5182fb88e780c2",
     "grade": false,
     "grade_id": "cell-7f938c1b18f13d00",
     "locked": true,
     "schema_version": 3,
     "solution": false,
     "task": false
    }
   },
   "source": [
    "Now let's check some properties of our encoding function: `activate_word`\n",
    "\n",
    "As mentioned above, there should be 460 wickelfeatures for each word. We can check this using `np.shape`\n",
    "\n",
    "For a three phoneme word like *came*, we expect there to be at most 16 active wickelfeatures.\n",
    "\n",
    "<div class=\"alert alert-info\" role=\"alert\">\n",
    "<h1>Exercise 1b)</h1>\n",
    "<p>\n",
    "Store the shape of the wickelfeature represetation for *came* and the number of wickelfeatures activated (i.e., set to 1).\n",
    "    \n",
    "(Points 2)\n",
    "</p>\n",
    "</div>\n"
   ]
  },
  {
   "cell_type": "code",
   "execution_count": null,
   "id": "quality-passage",
   "metadata": {},
   "outputs": [],
   "source": []
  },
  {
   "cell_type": "code",
   "execution_count": null,
   "id": "matched-chosen",
   "metadata": {},
   "outputs": [],
   "source": []
  },
  {
   "cell_type": "code",
   "execution_count": null,
   "id": "requested-enlargement",
   "metadata": {},
   "outputs": [],
   "source": []
  },
  {
   "cell_type": "code",
   "execution_count": 51,
   "id": "9b45e49b",
   "metadata": {
    "deletable": false,
    "nbgrader": {
     "cell_type": "code",
     "checksum": "78a56b444521335104f762820e55771f",
     "grade": false,
     "grade_id": "cell-44311f06fa6a3eaa",
     "locked": false,
     "schema_version": 3,
     "solution": true,
     "task": false
    }
   },
   "outputs": [],
   "source": [
    "# compute the shape and the number of active wickelfeatures here\n",
    "came_activation = np.array(activate_word('kAm'))\n",
    "came_shape = np.shape(came_activation)\n",
    "came_number_active_wickelfeatures = 0\n",
    "for i in came_activation:\n",
    "    if i == 1:\n",
    "        came_number_active_wickelfeatures += 1\n",
    "\n",
    "    \n",
    "\n",
    "# raise NotImplementedError()\n"
   ]
  },
  {
   "cell_type": "code",
   "execution_count": 52,
   "id": "e97cb8ed",
   "metadata": {
    "deletable": false,
    "editable": false,
    "nbgrader": {
     "cell_type": "code",
     "checksum": "aaec63dc8b19011a6a8dd31162a7c440",
     "grade": true,
     "grade_id": "cell-a5a77ea4a547b8bc",
     "locked": true,
     "points": 2,
     "schema_version": 3,
     "solution": false,
     "task": false
    }
   },
   "outputs": [],
   "source": [
    "\"\"\"Check the shape and number of active wickelfeatures is correct\"\"\"\n",
    "assert(came_shape == (460,))\n",
    "assert(came_number_active_wickelfeatures == 16)"
   ]
  },
  {
   "cell_type": "markdown",
   "id": "a0257598",
   "metadata": {
    "deletable": false,
    "editable": false,
    "nbgrader": {
     "cell_type": "markdown",
     "checksum": "8136580fff927a159ca95b53d7a44319",
     "grade": false,
     "grade_id": "cell-6ba9c42ce2ed376c",
     "locked": true,
     "schema_version": 3,
     "solution": false,
     "task": false
    }
   },
   "source": [
    " ## The Model\n",
    " \n",
    " Now that we have our input representations, we can work on the model implementation.\n",
    " \n",
    "The goal RM's model is to output a wickelfeature representation for the past tense of the input verb. To do this, they build a perceptron for each of the 460 possible wickelfeatures. Each perceptron receieves the entire phonological representation of the base verb as input and decides if a single wickelfeature should be present in the output.\n",
    "\n",
    "We have implemented the standard percepton model for you; however, there is one difference between a standard perceptron and the one's used by RM.\n",
    "\n",
    "In the standard perceptron, a unit fires if the weighted activation `net` is greater than a threshold `theta`; otherwise it does not fire.\n",
    "\n",
    "In RM's perceptron, a unit fires probabilistically according to the activation function:\n",
    "\n",
    "$$ p(\\text{fire}; net, \\theta, T) =  \\frac{1}{1 + e^{-(net-\\theta)/T}} $$\n",
    "\n",
    "\n",
    "<div class=\"alert alert-info\" role=\"alert\">\n",
    "<h1>Exercise 2a)</h1>\n",
    "<p>\n",
    "Translate this function into code.\n",
    "\n",
    "(Points 2)\n",
    "</p>\n",
    "</div>\n",
    "\n",
    "Hint: the exponential function can be calculated using `np.exp()`\n"
   ]
  },
  {
   "cell_type": "code",
   "execution_count": 53,
   "id": "c8523bc1",
   "metadata": {
    "deletable": false,
    "nbgrader": {
     "cell_type": "code",
     "checksum": "6ec9bded93c9e58721fe69b35baa82ae",
     "grade": false,
     "grade_id": "cell-e344e98abf6f1683",
     "locked": false,
     "schema_version": 3,
     "solution": true,
     "task": false
    }
   },
   "outputs": [],
   "source": [
    "# translate the function here\n",
    "#\n",
    "def rm_activation_function(net, theta, T=1.0):\n",
    "     probability = 1/(1+np.exp(-(net-theta)/T))\n",
    "     return probability\n",
    "\n",
    "\n",
    "#raise NotImplementedError()"
   ]
  },
  {
   "cell_type": "code",
   "execution_count": 54,
   "id": "043fbe59",
   "metadata": {
    "deletable": false,
    "editable": false,
    "nbgrader": {
     "cell_type": "code",
     "checksum": "c289cc86b19d164a9c4d5c6a54cf0e8c",
     "grade": true,
     "grade_id": "cell-b6db3042df1fc420",
     "locked": true,
     "points": 2,
     "schema_version": 3,
     "solution": false,
     "task": false
    }
   },
   "outputs": [],
   "source": [
    "\"\"\"Check the functions output\"\"\"\n",
    "assert(rm_activation_function(0, 0.0) == 0.5)\n",
    "assert(rm_activation_function(1., 0., 1.0) == 0.7310585786300049)\n",
    "assert(rm_activation_function(2., 1., T=2.) == 0.6224593312018546)\n",
    "\n"
   ]
  },
  {
   "cell_type": "markdown",
   "id": "c1dec091",
   "metadata": {
    "deletable": false,
    "editable": false,
    "nbgrader": {
     "cell_type": "markdown",
     "checksum": "c7c75bed366107e91b535983561399ba",
     "grade": false,
     "grade_id": "cell-29ae5e622ac59730",
     "locked": true,
     "schema_version": 3,
     "solution": false,
     "task": false
    }
   },
   "source": [
    "At first glance, this function looks very similar to the logit function we talked about in week 3's tutorial but what does that `T` parameter do? \n",
    "\n",
    "Let's vizualize it.\n",
    "\n",
    "<div class=\"alert alert-info\" role=\"alert\">\n",
    "<h1>Exercise 2b)</h1>\n",
    "<p>\n",
    "Let's set `theta = 0.0` and plot the probability of firing as a function of the the weighted activation `net` at `T=1.0`, `T=0.5` and `T=2.0` in one figure. We should consider weighted activation values between -5 and 5.\n",
    "\n",
    "(Points 5)\n",
    "</p>\n",
    "</div>\n",
    "\n",
    "For full credit you should:\n",
    "\n",
    "- Plot the probability of firing (Y-axis) as a function of weighted activation, net, (X-axis) on the same plot (choose distinguishable colors please).\n",
    "- Set labels for both axes.\n",
    "- Set a title for the figure.\n",
    "- Set the plot to span (0, 1) for the y-axis and and (-5, 5) for the x-axis\n",
    "- Set a legend indicating how colors map to values of T\n"
   ]
  },
  {
   "cell_type": "code",
   "execution_count": 55,
   "id": "f99fd1a9",
   "metadata": {
    "deletable": false,
    "nbgrader": {
     "cell_type": "code",
     "checksum": "a7b3e3af4e39df048765a42fae296c74",
     "grade": true,
     "grade_id": "cell-a86cda89bb81acff",
     "locked": false,
     "points": 5,
     "schema_version": 3,
     "solution": true,
     "task": false
    }
   },
   "outputs": [
    {
     "data": {
      "text/plain": [
       "<matplotlib.legend.Legend at 0x7f92b3237070>"
      ]
     },
     "execution_count": 55,
     "metadata": {},
     "output_type": "execute_result"
    },
    {
     "data": {
      "image/png": "[encoded data removed]",
      "text/plain": [
       "<Figure size 864x432 with 1 Axes>"
      ]
     },
     "metadata": {
      "needs_background": "light"
     },
     "output_type": "display_data"
    }
   ],
   "source": [
    "# calculate and plot the probability of firing at different T values\n",
    "\n",
    "net_activation = np.arange(-5, 6)\n",
    "p_T1 = rm_activation_function(net_activation, theta=0.0, T=1.0)\n",
    "p_T05 = rm_activation_function(net_activation, theta=0.0, T=0.5)\n",
    "p_T2 = rm_activation_function(net_activation, theta=0.0, T=2.0)\n",
    "\n",
    "plt.figure(num = 1, figsize = [12,6])\n",
    "plt.title(\"Probability of Perceptron Firing for a Given T Value\")\n",
    "plt.xlabel(\"Net Weighted Input\")\n",
    "plt.ylabel(\"Probability of Firing\")\n",
    "plt.plot(net_activation, p_T1, \"bo\", label = \"T=1\")\n",
    "plt.plot(net_activation, p_T05, \"ro\", label = \"T=0.5\")\n",
    "plt.plot(net_activation, p_T2, \"go\", label = \"T=2\")\n",
    "plt.legend()\n",
    "#\n",
    "\n",
    "#raise NotImplementedError()"
   ]
  },
  {
   "cell_type": "markdown",
   "id": "49e5c324",
   "metadata": {
    "deletable": false,
    "editable": false,
    "nbgrader": {
     "cell_type": "markdown",
     "checksum": "7c3770751cd237c7f83fa1313debcd0a",
     "grade": false,
     "grade_id": "cell-3c4a571bb7ddb867",
     "locked": true,
     "schema_version": 3,
     "solution": false,
     "task": false
    }
   },
   "source": [
    "<div class=\"alert alert-info\" role=\"alert\">\n",
    "<h1>Exercise 2c)</h1>\n",
    "<p>\n",
    "Discuss how this activation function differs from the standard perceptron activation function. (max 5 sentences)\n",
    "\n",
    "(Points 2)\n",
    "</p>\n",
    "</div>\n",
    "\n"
   ]
  },
  {
   "cell_type": "markdown",
   "id": "75c12fcc",
   "metadata": {
    "deletable": false,
    "nbgrader": {
     "cell_type": "markdown",
     "checksum": "9828d363de2ea87fe3362c9ba93bd2be",
     "grade": true,
     "grade_id": "cell-b5445e32d166de2a",
     "locked": false,
     "points": 2,
     "schema_version": 3,
     "solution": true,
     "task": false
    }
   },
   "source": [
    "The standard perceptron function outputs a boolean true/false (or 1/0), whereas the above function returns a continuous probability of firing. A standard perceptron outputs 1/0 value as returned by a step function, whereas the function used above is a sigmoid function. "
   ]
  },
  {
   "cell_type": "markdown",
   "id": "38ca107f",
   "metadata": {
    "deletable": false,
    "editable": false,
    "nbgrader": {
     "cell_type": "markdown",
     "checksum": "b6132de3c3c09ecdd5c5dafa8a9d94ff",
     "grade": false,
     "grade_id": "cell-00ab3404f0cb2ff1",
     "locked": true,
     "schema_version": 3,
     "solution": false,
     "task": false
    }
   },
   "source": [
    "# U Shaped Curves\n",
    "\n",
    "Recall from lecture that RM used this model to demonstrate a developmental U-shape curve.\n",
    "\n",
    "First they trained the model on ten high frequency words (8 irregular, 2 regular), then medium frequency verbs, then low frequency verbs. They then plotted the percent of wickelfeatures the model correctly predicted for irregular and regular verbs as the model saw more data. \n",
    "\n",
    "Let's replicate this step by step :)\n",
    "\n",
    "First, let's load in a corpus of English verbs."
   ]
  },
  {
   "cell_type": "code",
   "execution_count": 56,
   "id": "505ef354",
   "metadata": {
    "deletable": false,
    "editable": false,
    "nbgrader": {
     "cell_type": "code",
     "checksum": "5c9f8af873935a805abf6132402df5ab",
     "grade": false,
     "grade_id": "cell-d29deab6ed48cff6",
     "locked": true,
     "schema_version": 3,
     "solution": false,
     "task": false
    }
   },
   "outputs": [
    {
     "name": "stdout",
     "output_type": "stream",
     "text": [
      "['Verb', 'Type', 'Base', 'Past', 'Frequency']\n",
      "['act', 'Regular', 'akt', 'akted', 'M']\n",
      "['age', 'Regular', 'Aj', 'Ajd', 'M']\n",
      "['air', 'Regular', 'Ar', 'Ard', 'M']\n",
      "['arise', 'Irregular', '*rIz', '*rOz', 'M']\n",
      "['ask', 'Regular', 'ask', 'askt', 'M']\n",
      "['back', 'Regular', 'bak', 'bakt', 'M']\n",
      "['bear', 'Irregular', 'bAr', 'bor', 'M']\n",
      "['beat', 'Irregular', 'bEt', 'bEt', 'M']\n",
      "['become', 'Irregular', 'bEk*m', 'bEkAm', 'M']\n",
      "['believe', 'Regular', 'b*lEv', 'b*lEvd', 'M']\n",
      "['bend', 'Irregular', 'bend', 'bent', 'L']\n",
      "['bid', 'Irregular', 'bid', 'bid', 'L']\n",
      "['bleed', 'Irregular', 'blEd', 'bled', 'M']\n",
      "['blow', 'Irregular', 'blO', 'blU', 'M']\n",
      "['board', 'Regular', 'bord', 'borded', 'M']\n",
      "['brake', 'Irregular', 'brAk', 'brOk', 'M']\n",
      "['breed', 'Irregular', 'brEd', 'bred', 'L']\n",
      "['bring', 'Irregular', 'briN', 'brot', 'M']\n",
      "['brown', 'Regular', 'brWn', 'brWnd', 'L']\n",
      "['build', 'Irregular', 'bild', 'bilt', 'M']\n",
      "['buy', 'Irregular', 'bI', 'bot', 'M']\n",
      "['call', 'Regular', 'kol', 'kold', 'M']\n",
      "['carp', 'Regular', 'karp', 'karped', 'L']\n",
      "['catch', 'Irregular', 'kaC', 'kot', 'L']\n",
      "['center', 'Regular', 'senter', 'sentered', 'M']\n",
      "['change', 'Regular', 'CAnj', 'CAnjd', 'M']\n",
      "['choose', 'Irregular', 'Cuz', 'COz', 'M']\n",
      "['class', 'Regular', 'klas', 'klast', 'M']\n",
      "['clear', 'Regular', 'klEr', 'klErd', 'M']\n",
      "['climb', 'Regular', 'klIm', 'klImd', 'M']\n",
      "['cling', 'Irregular', 'kliN', 'klaN', 'L']\n",
      "['close', 'Regular', 'klOz', 'klOzd', 'M']\n",
      "['control', 'Regular', 'k*ntrOl', 'k*ntrOld', 'M']\n",
      "['court', 'Regular', 'kort', 'korted', 'M']\n",
      "['creep', 'Irregular', 'krEp', 'krept', 'L']\n",
      "['cut', 'Irregular', 'kut', 'kut', 'M']\n",
      "['deal', 'Irregular', 'dEl', 'delt', 'M']\n",
      "['develop', 'Regular', 'd*vel*p', 'd*vel*pt', 'M']\n",
      "['dig', 'Irregular', 'dig', 'd*g', 'L']\n",
      "['do', 'Irregular', 'dU', 'did', 'M']\n",
      "['drag', 'Irregular', 'jrag', 'jr*g', 'M']\n",
      "['draw', 'Irregular', 'jro', 'jrU', 'M']\n",
      "['drink', 'Irregular', 'driNk', 'draNk', 'M']\n",
      "['drip', 'Regular', 'jrip', 'jript', 'L']\n",
      "['drive', 'Irregular', 'jrIv', 'jrOv', 'M']\n",
      "['effect', 'Regular', '*fekt', '*fekted', 'M']\n",
      "['end', 'Regular', 'end', 'ended', 'M']\n",
      "['experience', 'Regular', 'ekspErEens', 'ekspErEenst', 'M']\n",
      "['face', 'Regular', 'fAs', 'fAst', 'M']\n",
      "['fall', 'Irregular', 'fol', 'fel', 'M']\n",
      "['feed', 'Irregular', 'fEd', 'fed', 'M']\n",
      "['field', 'Regular', 'fEld', 'fElded', 'M']\n",
      "['fight', 'Irregular', 'fIt', 'fot', 'M']\n",
      "['figure', 'Regular', 'figer', 'figerd', 'M']\n",
      "['find', 'Irregular', 'fInd', 'fWnd', 'M']\n",
      "['fit', 'Irregular', 'fit', 'fit', 'M']\n",
      "['flee', 'Irregular', 'flE', 'fled', 'M']\n",
      "['fly', 'Irregular', 'flI', 'flU', 'M']\n",
      "['force', 'Regular', 'fors', 'forst', 'M']\n",
      "['form', 'Regular', 'form', 'formd', 'M']\n",
      "['free', 'Regular', 'frE', 'frEd', 'M']\n",
      "['freeze', 'Irregular', 'frEz', 'frOz', 'M']\n",
      "['front', 'Regular', 'fr*nt', 'fr*nted', 'M']\n",
      "['grind', 'Irregular', 'grInd', 'grWnd', 'L']\n",
      "['group', 'Regular', 'grUp', 'grUpt', 'M']\n",
      "['grow', 'Irregular', 'grO', 'grU', 'M']\n",
      "['guard', 'Regular', 'gard', 'garded', 'L']\n",
      "['hand', 'Regular', 'hand', 'handed', 'M']\n",
      "['hang', 'Irregular', 'haN', 'h*N', 'M']\n",
      "['head', 'Regular', 'hed', 'heded', 'M']\n",
      "['hear', 'Irregular', 'hEr', 'herd', 'M']\n",
      "['help', 'Regular', 'help', 'helpt', 'M']\n",
      "['hide', 'Irregular', 'hId', 'hid', 'M']\n",
      "['hit', 'Irregular', 'hit', 'hit', 'M']\n",
      "['hold', 'Irregular', 'hOld', 'held', 'M']\n",
      "['hug', 'Regular', 'h*g', 'h*gd', 'L']\n",
      "['keep', 'Irregular', 'kEp', 'kept', 'M']\n",
      "['kid', 'Regular', 'kid', 'kided', 'L']\n",
      "['know', 'Irregular', 'nO', 'nU', 'M']\n",
      "['land', 'Regular', 'land', 'landed', 'M']\n",
      "['lead', 'Irregular', 'lEd', 'led', 'M']\n",
      "['leave', 'Irregular', 'lEv', 'left', 'M']\n",
      "['lend', 'Irregular', 'lend', 'lent', 'L']\n",
      "['light', 'Irregular', 'lIt', 'lit', 'M']\n",
      "['lose', 'Irregular', 'lUz', 'lost', 'M']\n",
      "['love', 'Regular', 'l*v', 'l*vd', 'M']\n",
      "['mail', 'Regular', 'mAl', 'mAld', 'L']\n",
      "['map', 'Regular', 'map', 'mapt', 'L']\n",
      "['mate', 'Regular', 'mAt', 'mAted', 'L']\n",
      "['mean', 'Irregular', 'mEn', 'ment', 'M']\n",
      "['meet', 'Irregular', 'mEt', 'met', 'M']\n",
      "['meet', 'Irregular', 'mEt', 'met', 'M']\n",
      "['melt', 'Regular', 'melt', 'melted', 'M']\n",
      "['mind', 'Regular', 'mInd', 'mInded', 'M']\n",
      "['mislead', 'Irregular', 'mislEd', 'misled', 'M']\n",
      "['miss', 'Regular', 'mis', 'mist', 'M']\n",
      "['need', 'Regular', 'nid', 'nided', 'M']\n",
      "['number', 'Regular', 'n*mber', 'n*mberd', 'M']\n",
      "['open', 'Regular', 'Open', 'Opend', 'M']\n",
      "['order', 'Regular', 'order', 'orderd', 'M']\n",
      "['own', 'Regular', 'On', 'Ond', 'M']\n",
      "['party', 'Regular', 'partE', 'partEd', 'M']\n",
      "['pat', 'Regular', 'pat', 'pated', 'M']\n",
      "['place', 'Regular', 'plAs', 'plAst', 'M']\n",
      "['plan', 'Regular', 'plan', 'pland', 'M']\n",
      "['play', 'Regular', 'plA', 'plAd', 'M']\n",
      "['point', 'Regular', 'pont', 'ponted', 'M']\n",
      "['position', 'Regular', 'p*ziS*n', 'p*ziS*nd', 'M']\n",
      "['power', 'Regular', 'pWr', 'pWrd', 'M']\n",
      "['present', 'Regular', 'prezent', 'prezented', 'M']\n",
      "['program', 'Regular', 'prOgram', 'prOgramd', 'M']\n",
      "['provide', 'Regular', 'prOvId', 'prOvIded', 'M']\n",
      "['put', 'Irregular', 'p*t', 'p*t', 'M']\n",
      "['question', 'Regular', 'kwesC*n', 'kwesC*nd', 'M']\n",
      "['rate', 'Regular', 'rAt', 'rAted', 'M']\n",
      "['read', 'Irregular', 'rEd', 'red', 'M']\n",
      "['reason', 'Regular', 'rEz*n', 'rEz*nd', 'M']\n",
      "['result', 'Regular', 'rez*lt', 'rez*lted', 'M']\n",
      "['ride', 'Irregular', 'rId', 'rOd', 'M']\n",
      "['ring', 'Irregular', 'riN', 'raN', 'M']\n",
      "['rise', 'Irregular', 'rIz', 'rOz', 'M']\n",
      "['run', 'Irregular', 'r*n', 'ran', 'M']\n",
      "['say', 'Irregular', 'sA', 'sed', 'M']\n",
      "['see', 'Irregular', 'sE', 'so', 'M']\n",
      "['seek', 'Irregular', 'sEk', 'sot', 'M']\n",
      "['seem', 'Regular', 'sEm', 'sEmd', 'M']\n",
      "['sell', 'Irregular', 'sel', 'sOld', 'M']\n",
      "['send', 'Irregular', 'send', 'sent', 'M']\n",
      "['sense', 'Regular', 'sens', 'senst', 'M']\n",
      "['service', 'Regular', 'servis', 'servist', 'M']\n",
      "['set', 'Irregular', 'set', 'set', 'M']\n",
      "['shake', 'Irregular', 'Sak', 'Suk', 'M']\n",
      "['shape', 'Regular', 'SAp', 'SApt', 'L']\n",
      "['shoot', 'Irregular', 'Sut', 'Sot', 'M']\n",
      "['show', 'Regular', 'SO', 'SOd', 'M']\n",
      "['sing', 'Irregular', 'siN', 'saN', 'M']\n",
      "['sip', 'Regular', 'sip', 'sipt', 'L']\n",
      "['sit', 'Irregular', 'sit', 'sat', 'M']\n",
      "['sleep', 'Irregular', 'slEp', 'slept', 'M']\n",
      "['slip', 'Regular', 'slip', 'slipt', 'L']\n",
      "['smile', 'Regular', 'smIl', 'smIld', 'M']\n",
      "['smoke', 'Regular', 'smOk', 'smOkt', 'L']\n",
      "['snap', 'Regular', 'snap', 'snapt', 'L']\n",
      "['sound', 'Regular', 'sWnd', 'sWnded', 'M']\n",
      "['speak', 'Irregular', 'spEk', 'spOk', 'M']\n",
      "['spend', 'Irregular', 'spend', 'spent', 'M']\n",
      "['spread', 'Irregular', 'spred', 'spred', 'M']\n",
      "['squat', 'Regular', 'skwot', 'skwoted', 'L']\n",
      "['stand', 'Irregular', 'stand', 'stUd', 'M']\n",
      "['state', 'Regular', 'stAt', 'stAted', 'M']\n",
      "['step', 'Regular', 'step', 'stept', 'L']\n",
      "['stick', 'Irregular', 'stik', 'st*k', 'L']\n",
      "['strike', 'Irregular', 'strIk', 'str*k', 'M']\n",
      "['study', 'Regular', 'st*dE', 'st*dEd', 'M']\n",
      "['surface', 'Regular', 'serfis', 'serfist', 'M']\n",
      "['sweep', 'Irregular', 'swEp', 'swept', 'M']\n",
      "['swim', 'Irregular', 'swim', 'swam', 'M']\n",
      "['swing', 'Irregular', 'swiN', 'swaN', 'M']\n",
      "['teach', 'Irregular', 'tEC', 'tot', 'M']\n",
      "['tear', 'Irregular', 'tAr', 'tor', 'L']\n",
      "['tell', 'Irregular', 'tel', 'tOld', 'M']\n",
      "['think', 'Irregular', 'TiNk', 'Tot', 'M']\n",
      "['throw', 'Irregular', 'DrO', 'DrU', 'M']\n",
      "['thrust', 'Irregular', 'Trust', 'Trust', 'L']\n",
      "['time', 'Regular', 'tIm', 'tImd', 'M']\n",
      "['tour', 'Regular', 'tor', 'tord', 'L']\n",
      "['turn', 'Regular', 'tern', 'ternd', 'M']\n",
      "['type', 'Regular', 'tIp', 'tIpt', 'L']\n",
      "['understand', 'Irregular', '*nderstand', '*nderstUd', 'M']\n",
      "['unite', 'Regular', 'UnIt', 'UnIted', 'M']\n",
      "['use', 'Regular', 'Uz', 'Uzd', 'M']\n",
      "['value', 'Regular', 'valU', 'valUd', 'M']\n",
      "['voice', 'Regular', 'vos', 'vost', 'M']\n",
      "['walk', 'Regular', 'wok', 'wokt', 'M']\n",
      "['want', 'Regular', 'w*nt', 'w*nted', 'M']\n",
      "['war', 'Regular', 'wor', 'word', 'M']\n",
      "['water', 'Regular', 'woder', 'wodered', 'M']\n",
      "['wear', 'Irregular', 'wAr', 'wor', 'M']\n",
      "['weep', 'Irregular', 'wEp', 'wept', 'L']\n",
      "['wind', 'Irregular', 'wInd', 'wWnd', 'L']\n",
      "['work', 'Regular', 'werk', 'werkt', 'M']\n",
      "['write', 'Irregular', 'rIt', 'rOt', 'M']\n",
      "['come', 'Irregular', 'k*m', 'kAm', 'H']\n",
      "['look', 'Regular', 'luk', 'lukt', 'H']\n",
      "['feel', 'Irregular', 'fEl', 'felt', 'H']\n",
      "['have', 'Irregular', 'hav', 'had', 'H']\n",
      "['make', 'Irregular', 'mAk', 'mAd', 'H']\n",
      "['get', 'Irregular', 'get', 'got', 'H']\n",
      "['give', 'Irregular', 'giv', 'gAv', 'H']\n",
      "['take', 'Irregular', 'tAk', 'tuk', 'H']\n",
      "['go', 'Irregular', 'go', 'went', 'H']\n",
      "['like', 'Regular', 'lIk', 'likt', 'H']\n"
     ]
    }
   ],
   "source": [
    "# read in the corpus\n",
    "\n",
    "verbs = []\n",
    "with open('verbs.csv') as f:\n",
    "    for i, line in enumerate(f.readlines()):\n",
    "        if i == 0:\n",
    "            print(line.strip('\\n').split(','))\n",
    "        else:\n",
    "            verbs.append(line.strip('\\n').split(','))\n",
    "            print(verbs[-1])\n",
    "\n",
    "# add in the high frequency verbs you translated for us earlier\n",
    "for i, word in enumerate(high_frequency_verbs):\n",
    "    if word in ['look', 'like']:\n",
    "        verbs.append([word, 'Regular', base_high_frequency_verbs[i], past_high_frequency_verbs[i], 'H'])\n",
    "    else:\n",
    "        verbs.append([word, 'Irregular', base_high_frequency_verbs[i], past_high_frequency_verbs[i], 'H'])\n",
    "    print(verbs[-1])\n"
   ]
  },
  {
   "cell_type": "markdown",
   "id": "aging-crazy",
   "metadata": {
    "deletable": false,
    "editable": false,
    "nbgrader": {
     "cell_type": "markdown",
     "checksum": "acc1f50294ebde7ba54fea080541c764",
     "grade": false,
     "grade_id": "cell-445b5fad83029b22",
     "locked": true,
     "schema_version": 3,
     "solution": false,
     "task": false
    }
   },
   "source": [
    "- The first column denotes the verb.\n",
    "- The second column denotes whether the verb is regular or irregular.\n",
    "- The third column denotes the phoneme representation of the base verb.\n",
    "- The fourth column denotes the phoneme representation of the past tense verb.\n",
    "- The last column denotes the verb's frequency (M: Medium or L: Low)"
   ]
  },
  {
   "cell_type": "markdown",
   "id": "988a202d",
   "metadata": {
    "deletable": false,
    "editable": false,
    "nbgrader": {
     "cell_type": "markdown",
     "checksum": "2ff2dabee4b47260353a1fc084caf75c",
     "grade": false,
     "grade_id": "cell-85d42907750961ba",
     "locked": true,
     "schema_version": 3,
     "solution": false,
     "task": false
    }
   },
   "source": [
    "## First Stage: High Frequency Verbs\n",
    "\n",
    "In the first stage, RM trained the model on the high frequency verbs.\n",
    "\n",
    "Let's do that.\n",
    "\n",
    "First we need to convert the phonemes into wickelfeatures."
   ]
  },
  {
   "cell_type": "code",
   "execution_count": 57,
   "id": "refined-heading",
   "metadata": {
    "deletable": false,
    "editable": false,
    "nbgrader": {
     "cell_type": "code",
     "checksum": "bff69e70de353815ba93eaaaa9a264ba",
     "grade": false,
     "grade_id": "cell-b0dba975f187ca94",
     "locked": true,
     "schema_version": 3,
     "solution": false,
     "task": false
    }
   },
   "outputs": [],
   "source": [
    "base_wickel_HF = np.array([activate_word(w) for w in base_high_frequency_verbs]).T\n",
    "past_wickel_HF = np.array([activate_word(w) for w in past_high_frequency_verbs]).T"
   ]
  },
  {
   "cell_type": "markdown",
   "id": "every-tsunami",
   "metadata": {
    "deletable": false,
    "editable": false,
    "nbgrader": {
     "cell_type": "markdown",
     "checksum": "95045fa6a1146f6f4ccc403bf6972f52",
     "grade": false,
     "grade_id": "cell-a1d42979dfc7bf3f",
     "locked": true,
     "schema_version": 3,
     "solution": false,
     "task": false
    }
   },
   "source": [
    "Next we initialize a perceptron with our custom activation function"
   ]
  },
  {
   "cell_type": "code",
   "execution_count": 58,
   "id": "subjective-australia",
   "metadata": {
    "deletable": false,
    "editable": false,
    "nbgrader": {
     "cell_type": "code",
     "checksum": "97ef5bb30630c558055956f3fef88216",
     "grade": false,
     "grade_id": "cell-2e31da23709014b9",
     "locked": true,
     "schema_version": 3,
     "solution": false,
     "task": false
    }
   },
   "outputs": [],
   "source": [
    "percept = Perceptron(active=rm_activation_function)"
   ]
  },
  {
   "cell_type": "markdown",
   "id": "cooperative-interval",
   "metadata": {
    "deletable": false,
    "editable": false,
    "nbgrader": {
     "cell_type": "markdown",
     "checksum": "f6fb6401b896e8ad2bc2d51145063be2",
     "grade": false,
     "grade_id": "cell-4226af594b244644",
     "locked": true,
     "schema_version": 3,
     "solution": false,
     "task": false
    }
   },
   "source": [
    "Now let's do the perceptron learning algorithm for each high frequency word (i.e. one epoch).\n",
    "\n",
    "By default, the `Perceptron.learn()` will return the model accuracy on the data, which we measure as the percentage of the wickelfeatures the model correctly predicts."
   ]
  },
  {
   "cell_type": "code",
   "execution_count": 59,
   "id": "electronic-absence",
   "metadata": {
    "deletable": false,
    "editable": false,
    "nbgrader": {
     "cell_type": "code",
     "checksum": "eee84e1fe410d38ac778204ebe48afeb",
     "grade": false,
     "grade_id": "cell-86585234119bc28c",
     "locked": true,
     "schema_version": 3,
     "solution": false,
     "task": false
    }
   },
   "outputs": [
    {
     "data": {
      "text/plain": [
       "array([0.97173913, 0.94782609, 0.93695652, 0.97173913, 0.95652174,\n",
       "       0.96956522, 0.95      , 0.96304348, 0.84347826, 0.93043478])"
      ]
     },
     "execution_count": 59,
     "metadata": {},
     "output_type": "execute_result"
    }
   ],
   "source": [
    "percept.learn(base_wickel_HF, past_wickel_HF)"
   ]
  },
  {
   "cell_type": "markdown",
   "id": "assigned-doctrine",
   "metadata": {
    "deletable": false,
    "editable": false,
    "nbgrader": {
     "cell_type": "markdown",
     "checksum": "e326fd9eee8f80ab8629a730515fd18f",
     "grade": false,
     "grade_id": "cell-043d4f21804ec153",
     "locked": true,
     "schema_version": 3,
     "solution": false,
     "task": false
    }
   },
   "source": [
    "We can also score the perceptron, using `Perceptron.score()`. "
   ]
  },
  {
   "cell_type": "code",
   "execution_count": 60,
   "id": "bc7b4034",
   "metadata": {
    "deletable": false,
    "editable": false,
    "nbgrader": {
     "cell_type": "code",
     "checksum": "f7941de23a0003d50618a547f0e64727",
     "grade": false,
     "grade_id": "cell-aa453b7c9dd9ce52",
     "locked": true,
     "schema_version": 3,
     "solution": false,
     "task": false
    }
   },
   "outputs": [
    {
     "data": {
      "text/plain": [
       "array([0.9673913 , 0.95434783, 0.94347826, 0.9673913 , 0.95869565,\n",
       "       0.97391304, 0.9673913 , 0.96304348, 0.87173913, 0.92826087])"
      ]
     },
     "execution_count": 60,
     "metadata": {},
     "output_type": "execute_result"
    }
   ],
   "source": [
    "percept.score(base_wickel_HF, past_wickel_HF)"
   ]
  },
  {
   "cell_type": "markdown",
   "id": "a4de1a52",
   "metadata": {
    "deletable": false,
    "editable": false,
    "nbgrader": {
     "cell_type": "markdown",
     "checksum": "3690eb7df350bcbb20d22bb8108816fb",
     "grade": false,
     "grade_id": "cell-b54bedf3f044546b",
     "locked": true,
     "schema_version": 3,
     "solution": false,
     "task": false
    }
   },
   "source": [
    "So after one epoch, the perceptron performs well on the verbs it has seen already. \n",
    "\n",
    "How will the perceptron perform on all the irregular and regular verbs, including the ones it has not seen yet?\n",
    "\n",
    "<div class=\"alert alert-info\" role=\"alert\">\n",
    "<h1>Exercise 3a)</h1>\n",
    "<p>\n",
    "Now let's divide the corpus `verbs` into two lists: one for regular verbs and one for irregular verbs.\n",
    "\n",
    "(Points 2)    \n",
    "</p>\n",
    "</div>\n",
    "\n",
    "Hint: You may want to use a `for` loop over `verbs`\n"
   ]
  },
  {
   "cell_type": "code",
   "execution_count": 61,
   "id": "8ed323ab",
   "metadata": {
    "deletable": false,
    "nbgrader": {
     "cell_type": "code",
     "checksum": "0aa0084d329ef17309a301a1263f8bae",
     "grade": false,
     "grade_id": "cell-8f247fe65924f99c",
     "locked": false,
     "schema_version": 3,
     "solution": true,
     "task": false
    }
   },
   "outputs": [],
   "source": [
    "# store the two sets here\n",
    "#\n",
    "regular_verbs = []\n",
    "irregular_verbs = []\n",
    "\n",
    "for verb in verbs:\n",
    "    if verb[1] == 'Regular':\n",
    "        regular_verbs.append(verb)\n",
    "    else:\n",
    "        irregular_verbs.append(verb)\n",
    "\n",
    "#raise NotImplementedError()"
   ]
  },
  {
   "cell_type": "code",
   "execution_count": 62,
   "id": "3c98b5e3",
   "metadata": {
    "deletable": false,
    "editable": false,
    "nbgrader": {
     "cell_type": "code",
     "checksum": "e88d8c8c8831925cc2e9b9067f93eabe",
     "grade": true,
     "grade_id": "cell-c3de581e3a2d797b",
     "locked": true,
     "points": 2,
     "schema_version": 3,
     "solution": false,
     "task": false
    }
   },
   "outputs": [],
   "source": [
    "assert(len(regular_verbs) == 96)\n",
    "assert(len(irregular_verbs) == 96)"
   ]
  },
  {
   "cell_type": "markdown",
   "id": "973fe3a3",
   "metadata": {
    "deletable": false,
    "editable": false,
    "nbgrader": {
     "cell_type": "markdown",
     "checksum": "eb2d4e15c10b2aa1a206c647f6a52f95",
     "grade": false,
     "grade_id": "cell-c29744340402aa58",
     "locked": true,
     "schema_version": 3,
     "solution": false,
     "task": false
    }
   },
   "source": [
    "Now let's score the perceptron's performance on both the regular and irregular verbs.\n",
    "\n",
    "<div class=\"alert alert-info\" role=\"alert\">\n",
    "<h1>Exercise 3b)</h1>\n",
    "<p>\n",
    "First convert the phonemes for base and past tense into wickelfeatures. Then calculate the mean score of the model on irregular and regular verbs.\n",
    "    \n",
    "(Points 3)</p>\n",
    "</div>\n",
    "\n",
    "Hint: Look back to how we coverted phonemes into wickelfeatures above.\n"
   ]
  },
  {
   "cell_type": "code",
   "execution_count": 63,
   "id": "d600a46a",
   "metadata": {
    "deletable": false,
    "nbgrader": {
     "cell_type": "code",
     "checksum": "a568c6f234e69b4753a7df3d6bdaa50a",
     "grade": false,
     "grade_id": "cell-22f78ce7b054d70b",
     "locked": false,
     "schema_version": 3,
     "solution": true,
     "task": false
    }
   },
   "outputs": [
    {
     "name": "stdout",
     "output_type": "stream",
     "text": [
      "0.9142889492753623\n",
      "0.8748188405797102\n"
     ]
    }
   ],
   "source": [
    "# convert irregular and regular verbs into wickelfeatures\n",
    "#\n",
    "base_wickel_irregular = np.array([activate_word(verb[2]) for verb in irregular_verbs]).T\n",
    "past_wickel_irregular = np.array([activate_word(verb[3]) for verb in irregular_verbs]).T\n",
    "base_wickel_regular = np.array([activate_word(verb[2]) for verb in regular_verbs]).T\n",
    "past_wickel_regular = np.array([activate_word(verb[3]) for verb in regular_verbs]).T\n",
    "\n",
    "irregular_score = np.mean(percept.score(base_wickel_irregular, past_wickel_irregular))\n",
    "regular_score = np.mean(percept.score(base_wickel_regular, past_wickel_regular))\n",
    "\n",
    "print(irregular_score)\n",
    "print(regular_score)\n",
    "\n",
    "#raise NotImplementedError()"
   ]
  },
  {
   "cell_type": "code",
   "execution_count": 64,
   "id": "587c39c3",
   "metadata": {
    "deletable": false,
    "editable": false,
    "nbgrader": {
     "cell_type": "code",
     "checksum": "62172143b5f257001bb3a6f76be3868f",
     "grade": true,
     "grade_id": "cell-794f73825ff4458b",
     "locked": true,
     "points": 3,
     "schema_version": 3,
     "solution": false,
     "task": false
    }
   },
   "outputs": [],
   "source": [
    "assert(irregular_score == 0.9142889492753623)\n",
    "assert(regular_score == 0.8748188405797102)"
   ]
  },
  {
   "cell_type": "markdown",
   "id": "a205fb5b",
   "metadata": {
    "deletable": false,
    "editable": false,
    "nbgrader": {
     "cell_type": "markdown",
     "checksum": "a0959e9cbc401004f4824a9a75f24d66",
     "grade": false,
     "grade_id": "cell-20894af6c08e4f44",
     "locked": true,
     "schema_version": 3,
     "solution": false,
     "task": false
    }
   },
   "source": [
    "So far we've trained the model in batch, which means it has seen all the data once before we score it.\n",
    "\n",
    "Let's train the model one data point at a time and score it after each datapoint"
   ]
  },
  {
   "cell_type": "code",
   "execution_count": 65,
   "id": "8d43172f",
   "metadata": {
    "deletable": false,
    "editable": false,
    "nbgrader": {
     "cell_type": "code",
     "checksum": "f1b0299c0f8b1495ffae8540ea795a40",
     "grade": false,
     "grade_id": "cell-e2ea5e49d557db37",
     "locked": true,
     "schema_version": 3,
     "solution": false,
     "task": false
    }
   },
   "outputs": [
    {
     "name": "stdout",
     "output_type": "stream",
     "text": [
      "0.6128396739130434 0.6086050724637682\n",
      "0.6739583333333333 0.6753396739130434\n",
      "0.7203577898550725 0.7194972826086957\n",
      "0.7453577898550724 0.7426177536231884\n",
      "0.7697463768115943 0.7745471014492754\n",
      "0.7841485507246378 0.7931385869565216\n",
      "0.7971693840579709 0.8102355072463768\n",
      "0.8057291666666666 0.8263813405797102\n",
      "0.8115489130434783 0.8335371376811594\n",
      "0.8201766304347826 0.8421875000000001\n"
     ]
    }
   ],
   "source": [
    "# Let's initialize a new perceptron with our custom activation function\n",
    "percept = Perceptron(active=rm_activation_function)\n",
    "\n",
    "\n",
    "# Now let's loop through each data point to train and score\n",
    "scores_regular = []\n",
    "scores_irregular = []\n",
    "for i in range(len(high_frequency_verbs)):\n",
    "    percept.learn(base_wickel_HF[:,i, np.newaxis], past_wickel_HF[:,i,np.newaxis])\n",
    "    scores_regular.append(np.mean(percept.score(base_wickel_regular, past_wickel_regular)))\n",
    "    scores_irregular.append(np.mean(percept.score(base_wickel_irregular, past_wickel_irregular)))\n",
    "    print(scores_regular[-1], scores_irregular[-1])\n"
   ]
  },
  {
   "cell_type": "markdown",
   "id": "570d7f82",
   "metadata": {
    "deletable": false,
    "editable": false,
    "nbgrader": {
     "cell_type": "markdown",
     "checksum": "72d5fe72c484935fb817e14ca32ec544",
     "grade": false,
     "grade_id": "cell-80260556c17c2803",
     "locked": true,
     "schema_version": 3,
     "solution": false,
     "task": false
    }
   },
   "source": [
    "<div class=\"alert alert-info\" role=\"alert\">\n",
    "<h1>Exercise 3c)</h1>\n",
    "<p>\n",
    "Explain the model output. So far, do we replicate RM? Do we expect to get the same result if we rerun the model? (7 sentences max)\n",
    "    \n",
    "(Points 3)</p>\n",
    "</div>"
   ]
  },
  {
   "cell_type": "code",
   "execution_count": 66,
   "id": "accessible-building",
   "metadata": {},
   "outputs": [
    {
     "data": {
      "text/plain": [
       "<matplotlib.legend.Legend at 0x7f92b31b24c0>"
      ]
     },
     "execution_count": 66,
     "metadata": {},
     "output_type": "execute_result"
    },
    {
     "data": {
      "image/png": "[encoded data removed]",
      "text/plain": [
       "<Figure size 864x432 with 1 Axes>"
      ]
     },
     "metadata": {
      "needs_background": "light"
     },
     "output_type": "display_data"
    }
   ],
   "source": [
    "plt.figure(num = 2, figsize = [12,6])\n",
    "plt.plot(range(len(scores_regular)), scores_regular, \"b-\", label = \"Regular Words\")\n",
    "plt.plot(range(len(scores_irregular)), scores_irregular, \"g-\", label = \"Irregular words\")\n",
    "plt.xlabel(\"word number\")\n",
    "plt.ylabel(\"perceptron score\")\n",
    "plt.title(\"Perceptron Score After Learning HF Words Sequentially\")\n",
    "plt.legend()"
   ]
  },
  {
   "cell_type": "markdown",
   "id": "b09b30eb",
   "metadata": {
    "deletable": false,
    "nbgrader": {
     "cell_type": "markdown",
     "checksum": "eb91e3563a3dbb426859a83a182f5243",
     "grade": true,
     "grade_id": "cell-3729d0cb563c686c",
     "locked": false,
     "points": 3,
     "schema_version": 3,
     "solution": true,
     "task": false
    }
   },
   "source": [
    "So far, we do replicate RM. This is because the plot above represents the initial stage of childhood word learning, prior to the U-shape curve. In this stage, childrens' ability to correctly predict the past tense of all words increases monotonically as they train on high-frequency words. Additionally, the fact that the perceptron score for irregular words comes out on top of regular words supports RM's empirical observation that children learn irregular words first. We expect the same results when we rerun the model because the training data, perceptron function and comparison data do not change. "
   ]
  },
  {
   "cell_type": "markdown",
   "id": "53ae3d77",
   "metadata": {
    "deletable": false,
    "editable": false,
    "nbgrader": {
     "cell_type": "markdown",
     "checksum": "e1ac7cee01eef26d5e47391137270ec0",
     "grade": false,
     "grade_id": "cell-e46bcec7a8650ad2",
     "locked": true,
     "schema_version": 3,
     "solution": false,
     "task": false
    }
   },
   "source": [
    "## Second Stage: Medium Frequency Verbs\n",
    "\n",
    "Recall, in the second stage of the U-Shape curve, RM train the model with medium frequency verbs. Let's do it!\n",
    "\n",
    "<div class=\"alert alert-info\" role=\"alert\">\n",
    "<h1>Exercise 4a)</h1>\n",
    "<p>\n",
    "First, we need to extract the medium frequency verbs from the corpus `verbs`.\n",
    "    \n",
    "(Points 1)</p>\n",
    "</div>\n"
   ]
  },
  {
   "cell_type": "code",
   "execution_count": 67,
   "id": "6ad0794d",
   "metadata": {
    "deletable": false,
    "nbgrader": {
     "cell_type": "code",
     "checksum": "d8a27a8c3ba329f25b0b50f35069343f",
     "grade": false,
     "grade_id": "cell-55e9939c4d46105a",
     "locked": false,
     "schema_version": 3,
     "solution": true,
     "task": false
    }
   },
   "outputs": [],
   "source": [
    "# store the medium frequency verbs here\n",
    "#\n",
    "base_med_frequency_verbs = []\n",
    "past_med_frequency_verbs = []\n",
    "\n",
    "for verb in verbs:\n",
    "    if verb [-1] == \"M\":\n",
    "        base_med_frequency_verbs.append(verb[2])\n",
    "        past_med_frequency_verbs.append(verb[3])\n",
    "\n",
    "#raise NotImplementedError()"
   ]
  },
  {
   "cell_type": "code",
   "execution_count": 68,
   "id": "efb562ab",
   "metadata": {
    "deletable": false,
    "editable": false,
    "nbgrader": {
     "cell_type": "code",
     "checksum": "1d2cd5a91618d6c45f7e8b880bbb86a7",
     "grade": true,
     "grade_id": "cell-88c696d6d0757ba6",
     "locked": true,
     "points": 1,
     "schema_version": 3,
     "solution": false,
     "task": false
    }
   },
   "outputs": [],
   "source": [
    "assert(len(base_med_frequency_verbs) == 150)\n",
    "assert(len(past_med_frequency_verbs) == 150)"
   ]
  },
  {
   "cell_type": "markdown",
   "id": "26b7867d",
   "metadata": {
    "deletable": false,
    "editable": false,
    "nbgrader": {
     "cell_type": "markdown",
     "checksum": "0a7bddd905173e50cac924c66de46828",
     "grade": false,
     "grade_id": "cell-63deefbdc47cf573",
     "locked": true,
     "schema_version": 3,
     "solution": false,
     "task": false
    }
   },
   "source": [
    "<div class=\"alert alert-info\" role=\"alert\">\n",
    "<h1>Exercise 4b)</h1>\n",
    "<p>\n",
    "Second, we need to convert those those verbs into wickelfeatures.\n",
    "    \n",
    "(Points 2)</p>\n",
    "</div>\n"
   ]
  },
  {
   "cell_type": "code",
   "execution_count": 69,
   "id": "c7c5a10a",
   "metadata": {
    "deletable": false,
    "nbgrader": {
     "cell_type": "code",
     "checksum": "39546979ff290c9ae5af81380c7aa392",
     "grade": true,
     "grade_id": "cell-ab4046b30080c376",
     "locked": false,
     "points": 2,
     "schema_version": 3,
     "solution": true,
     "task": false
    }
   },
   "outputs": [],
   "source": [
    "# convert the verbs into wickelfeatures\n",
    "#\n",
    "base_wickel_MF = np.array([activate_word(verb) for verb in base_med_frequency_verbs]).T\n",
    "past_wickel_MF = np.array([activate_word(verb) for verb in past_med_frequency_verbs]).T\n",
    "\n",
    "# YOUR CODE HERE\n",
    "#raise NotImplementedError()"
   ]
  },
  {
   "cell_type": "markdown",
   "id": "8cde18bc",
   "metadata": {
    "deletable": false,
    "editable": false,
    "nbgrader": {
     "cell_type": "markdown",
     "checksum": "c6233b2a810e0ed422642e5f9c24dea7",
     "grade": false,
     "grade_id": "cell-5190f78a5e0e28c6",
     "locked": true,
     "schema_version": 3,
     "solution": false,
     "task": false
    }
   },
   "source": [
    "Now, we need to loop through each data point to train and score, like we just did for the high frequency verbs.\n",
    "\n",
    "<div class=\"alert alert-info\" role=\"alert\">\n",
    "<h1>Exercise 4c)</h1>\n",
    "<p>\n",
    "Calculate and store the scores for regular and irregular verbs in the variables `scores_irregular_md` and `scores_regular_md`.\n",
    "    \n",
    "(Points 2)</p>\n",
    "</div>\n"
   ]
  },
  {
   "cell_type": "code",
   "execution_count": 70,
   "id": "0b9bc2fb",
   "metadata": {
    "deletable": false,
    "nbgrader": {
     "cell_type": "code",
     "checksum": "267b7c987079a95c62183e6269c70b61",
     "grade": false,
     "grade_id": "cell-31be16552d1b527d",
     "locked": false,
     "schema_version": 3,
     "solution": true,
     "task": false
    }
   },
   "outputs": [
    {
     "name": "stdout",
     "output_type": "stream",
     "text": [
      "0.8268342391304347 0.8441802536231883\n",
      "0.8344202898550726 0.8514266304347826\n",
      "0.8392210144927538 0.8594655797101449\n",
      "0.8400135869565216 0.8624547101449277\n",
      "0.8431838768115942 0.8668251811594203\n",
      "0.8454483695652173 0.8644021739130435\n",
      "0.8525362318840579 0.8736413043478262\n",
      "0.8541666666666666 0.8765625\n",
      "0.8431838768115941 0.8606431159420289\n",
      "0.8374320652173912 0.8484601449275363\n",
      "0.8459918478260869 0.8670063405797102\n",
      "0.8525588768115943 0.8776268115942029\n",
      "0.8588541666666668 0.8673686594202898\n",
      "0.8606657608695653 0.8708786231884057\n",
      "0.8590579710144928 0.877717391304348\n",
      "0.8642436594202899 0.8889945652173914\n",
      "0.8668251811594203 0.8891304347826088\n",
      "0.8712182971014494 0.8941123188405796\n",
      "0.8591711956521738 0.871988224637681\n",
      "0.864447463768116 0.8835597826086956\n",
      "0.8689990942028984 0.8877717391304346\n",
      "0.8665081521739131 0.8831295289855072\n",
      "0.8699048913043478 0.8820878623188406\n",
      "0.8742980072463767 0.8846693840579709\n",
      "0.8748641304347826 0.8857336956521739\n",
      "0.8671648550724638 0.8740262681159421\n",
      "0.8787590579710144 0.8817708333333334\n",
      "0.8840579710144928 0.8894021739130435\n",
      "0.8860054347826086 0.8928215579710145\n",
      "0.8683876811594203 0.8671195652173914\n",
      "0.8707201086956523 0.8705615942028985\n",
      "0.8767210144927536 0.8854166666666666\n",
      "0.8789855072463769 0.890036231884058\n",
      "0.8821557971014493 0.896286231884058\n",
      "0.8846014492753622 0.9017436594202898\n",
      "0.8853034420289855 0.9005661231884058\n",
      "0.8901041666666668 0.9025815217391303\n",
      "0.8463994565217391 0.8494338768115942\n",
      "0.8569067028985508 0.8643568840579711\n",
      "0.8646286231884058 0.8725317028985508\n",
      "0.870516304347826 0.881929347826087\n",
      "0.8695199275362319 0.8805932971014494\n",
      "0.8759963768115941 0.8900588768115942\n",
      "0.8823369565217393 0.8885190217391304\n",
      "0.8858922101449275 0.8966938405797101\n",
      "0.8887907608695652 0.9045516304347826\n",
      "0.8905117753623188 0.9086730072463768\n",
      "0.8937952898550726 0.9106884057971015\n",
      "0.8909420289855072 0.9113451086956522\n",
      "0.8910552536231884 0.9094882246376811\n",
      "0.8949275362318841 0.9105978260869566\n",
      "0.8956068840579711 0.9103260869565218\n",
      "0.8993432971014492 0.9066576086956522\n",
      "0.9003849637681159 0.9072010869565217\n",
      "0.9018568840579709 0.9114130434782607\n",
      "0.9044384057971016 0.909873188405797\n",
      "0.9039175724637681 0.9114583333333334\n",
      "0.9046648550724637 0.9090806159420289\n",
      "0.9042798913043478 0.9118206521739131\n",
      "0.9061594202898551 0.9133378623188406\n",
      "0.9031250000000001 0.9115262681159422\n",
      "0.9034420289855074 0.9157382246376812\n",
      "0.9014039855072463 0.9155344202898551\n",
      "0.9012681159420289 0.9161684782608696\n",
      "0.9019927536231883 0.9165081521739129\n",
      "0.9079710144927536 0.9171195652173912\n",
      "0.9088315217391304 0.9194519927536232\n",
      "0.9083333333333333 0.919723731884058\n",
      "0.9073369565217391 0.9228940217391305\n",
      "0.9088315217391304 0.9224864130434783\n",
      "0.9104846014492752 0.9241168478260869\n",
      "0.9111639492753624 0.9227581521739131\n",
      "0.9112998188405798 0.9256340579710146\n",
      "0.9124773550724639 0.9271739130434783\n",
      "0.9123641304347826 0.9260416666666668\n",
      "0.9138360507246377 0.9265851449275363\n",
      "0.9035778985507245 0.9174592391304349\n",
      "0.9104846014492752 0.9233469202898551\n",
      "0.9109374999999998 0.9220108695652174\n",
      "0.9126811594202898 0.9210597826086957\n",
      "0.9166666666666666 0.9245471014492753\n",
      "0.9204710144927537 0.9291440217391305\n",
      "0.920221920289855 0.9289175724637682\n",
      "0.9175045289855072 0.9290307971014492\n",
      "0.9198596014492754 0.9288043478260871\n",
      "0.9192708333333334 0.9250452898550724\n",
      "0.9192028985507245 0.9242074275362319\n",
      "0.9201086956521739 0.9262228260869566\n",
      "0.9209918478260869 0.9253623188405798\n",
      "0.9186594202898551 0.9203804347826088\n",
      "0.9212635869565218 0.922169384057971\n",
      "0.9207201086956521 0.9160099637681158\n",
      "0.9040307971014493 0.8969429347826088\n",
      "0.9110507246376812 0.9016304347826086\n",
      "0.9150135869565217 0.9085371376811594\n",
      "0.9061367753623188 0.9007699275362319\n",
      "0.9095561594202898 0.9021286231884059\n",
      "0.9128170289855072 0.9087409420289855\n",
      "0.9149003623188405 0.9099184782608695\n",
      "0.916191123188406 0.9122509057971014\n",
      "0.9193387681159422 0.9192481884057971\n",
      "0.9205615942028986 0.922169384057971\n",
      "0.921671195652174 0.9243432971014492\n",
      "0.9236865942028984 0.9258378623188407\n",
      "0.9240489130434781 0.9278985507246377\n",
      "0.9231431159420289 0.9284646739130435\n",
      "0.9241394927536231 0.9287364130434783\n",
      "0.9256340579710143 0.9295289855072463\n",
      "0.9243432971014492 0.9308423913043479\n",
      "0.9245244565217391 0.9346920289855071\n",
      "0.925203804347826 0.9351675724637681\n",
      "0.9271965579710143 0.9302083333333334\n",
      "0.9277626811594203 0.9331295289855074\n",
      "0.9279664855072465 0.9329030797101451\n",
      "0.9280570652173913 0.9358242753623189\n",
      "0.9284420289855072 0.935144927536232\n",
      "0.9284193840579711 0.9365942028985508\n",
      "0.9286684782608695 0.9369338768115941\n",
      "0.9296875 0.9406476449275362\n",
      "0.9291893115942029 0.9405117753623188\n",
      "0.9303442028985507 0.9361186594202898\n",
      "0.9310914855072463 0.9381567028985507\n",
      "0.9326086956521739 0.9423913043478261\n",
      "0.9312726449275361 0.9437500000000001\n",
      "0.9250452898550723 0.9435914855072464\n",
      "0.9274456521739131 0.9403306159420289\n",
      "0.9241847826086956 0.9371603260869565\n",
      "0.9275588768115943 0.9382699275362318\n",
      "0.9303894927536231 0.9377264492753623\n",
      "0.9296422101449275 0.9384057971014492\n",
      "0.9293025362318841 0.939266304347826\n",
      "0.9283514492753624 0.9418931159420291\n",
      "0.9304574275362318 0.94375\n",
      "0.9298913043478261 0.9432971014492755\n",
      "0.9290081521739131 0.9454710144927537\n",
      "0.9301177536231885 0.9485054347826086\n",
      "0.930276268115942 0.9471014492753623\n",
      "0.9320878623188406 0.9479846014492753\n",
      "0.9129528985507247 0.9332201086956523\n",
      "0.9200181159420291 0.933605072463768\n",
      "0.9208786231884059 0.9353940217391304\n",
      "0.9236413043478261 0.9385869565217391\n",
      "0.924909420289855 0.9387907608695653\n",
      "0.9261775362318841 0.9405117753623188\n",
      "0.9306159420289856 0.9413269927536231\n",
      "0.9319519927536232 0.9403532608695652\n",
      "0.9292798913043478 0.9415760869565218\n",
      "0.9273777173913045 0.9411231884057972\n",
      "0.9292572463768116 0.9419157608695654\n",
      "0.9333333333333332 0.9447690217391305\n"
     ]
    }
   ],
   "source": [
    "# loop through the medium frequency verbs to train and score the model here\n",
    "#\n",
    "scores_regular_md = []\n",
    "scores_irregular_md = []\n",
    "for i in range(len(base_med_frequency_verbs)):\n",
    "    percept.learn(base_wickel_MF[:,i, np.newaxis], past_wickel_MF[:,i,np.newaxis])\n",
    "    scores_regular_md.append(np.mean(percept.score(base_wickel_regular, past_wickel_regular)))\n",
    "    scores_irregular_md.append(np.mean(percept.score(base_wickel_irregular, past_wickel_irregular)))\n",
    "    print(scores_regular_md[-1], scores_irregular_md[-1])\n",
    "\n",
    "\n",
    "#raise NotImplementedError()"
   ]
  },
  {
   "cell_type": "code",
   "execution_count": 71,
   "id": "written-criticism",
   "metadata": {
    "deletable": false,
    "editable": false,
    "nbgrader": {
     "cell_type": "code",
     "checksum": "4fd6ffb096310c65fa7c8c9b0ef62427",
     "grade": true,
     "grade_id": "cell-66226651ac8f4ddd",
     "locked": true,
     "points": 2,
     "schema_version": 3,
     "solution": false,
     "task": false
    }
   },
   "outputs": [],
   "source": [
    "assert(scores_regular_md[-1] == 0.9333333333333332 )\n",
    "assert(scores_irregular_md[-1] == 0.9447690217391305)"
   ]
  },
  {
   "cell_type": "markdown",
   "id": "ca3dcb9a",
   "metadata": {
    "deletable": false,
    "editable": false,
    "nbgrader": {
     "cell_type": "markdown",
     "checksum": "f65586c96a98c34f1267ef6e23a18d03",
     "grade": false,
     "grade_id": "cell-a199a8350225d89a",
     "locked": true,
     "schema_version": 3,
     "solution": false,
     "task": false
    }
   },
   "source": [
    "## Third Stage: Low Frequency Verbs\n",
    "\n",
    "In the third stage of the U-Shape curve, RM train the model with low frequency verbs. One last time then :)\n",
    "\n",
    "<div class=\"alert alert-info\" role=\"alert\">\n",
    "<h1>Exercise 4d)</h1>\n",
    "<p>\n",
    "First, we need to extract the low frequency verbs from the corpus `verbs`.\n",
    "    \n",
    "(Points 1)</p>\n",
    "</div>"
   ]
  },
  {
   "cell_type": "code",
   "execution_count": 72,
   "id": "d40e1d17",
   "metadata": {
    "deletable": false,
    "nbgrader": {
     "cell_type": "code",
     "checksum": "1f1c678716ff389d079412124d5a5577",
     "grade": false,
     "grade_id": "cell-b336cc16f2bac200",
     "locked": false,
     "schema_version": 3,
     "solution": true,
     "task": false
    }
   },
   "outputs": [],
   "source": [
    "base_low_frequency_verbs = []\n",
    "past_low_frequency_verbs = []\n",
    "\n",
    "for verb in verbs:\n",
    "    if verb [-1] == \"L\":\n",
    "        base_low_frequency_verbs.append(verb[2])\n",
    "        past_low_frequency_verbs.append(verb[3])\n",
    "\n",
    "# YOUR CODE HERE\n",
    "#raise NotImplementedError()"
   ]
  },
  {
   "cell_type": "code",
   "execution_count": 73,
   "id": "d831aa9c",
   "metadata": {
    "deletable": false,
    "editable": false,
    "nbgrader": {
     "cell_type": "code",
     "checksum": "28a6a3dd472626cbb50d9652e3cdc84e",
     "grade": true,
     "grade_id": "cell-7c6ee67acc6f76b8",
     "locked": true,
     "points": 1,
     "schema_version": 3,
     "solution": false,
     "task": false
    }
   },
   "outputs": [],
   "source": [
    "assert(len(base_low_frequency_verbs) == 32)\n",
    "assert(len(past_low_frequency_verbs) == 32)"
   ]
  },
  {
   "cell_type": "markdown",
   "id": "e28e117a",
   "metadata": {
    "deletable": false,
    "editable": false,
    "nbgrader": {
     "cell_type": "markdown",
     "checksum": "abb6a81836a7b6a0729d12e3980b0541",
     "grade": false,
     "grade_id": "cell-42929057164a6175",
     "locked": true,
     "schema_version": 3,
     "solution": false,
     "task": false
    }
   },
   "source": [
    "<div class=\"alert alert-info\" role=\"alert\">\n",
    "<h1>Exercise 4e)</h1>\n",
    "<p>\n",
    "Second, we need to convert those those verbs into wickelfeatures.\n",
    "    \n",
    "(Points 2)</p>\n",
    "</div>\n"
   ]
  },
  {
   "cell_type": "code",
   "execution_count": 74,
   "id": "66123d15",
   "metadata": {
    "deletable": false,
    "nbgrader": {
     "cell_type": "code",
     "checksum": "e474d317b8fe86f96524dfa5f5559927",
     "grade": true,
     "grade_id": "cell-4ec0b3e1a165c6f6",
     "locked": false,
     "points": 2,
     "schema_version": 3,
     "solution": true,
     "task": false
    }
   },
   "outputs": [],
   "source": [
    "# convert the verbs into wickelfeatures\n",
    "#\n",
    "base_wickel_LF = np.array([activate_word(verb) for verb in base_low_frequency_verbs]).T\n",
    "past_wickel_LF = np.array([activate_word(verb) for verb in past_low_frequency_verbs]).T\n",
    "\n",
    "# YOUR CODE HERE\n",
    "#raise NotImplementedError()"
   ]
  },
  {
   "cell_type": "markdown",
   "id": "b102afd5",
   "metadata": {
    "deletable": false,
    "editable": false,
    "nbgrader": {
     "cell_type": "markdown",
     "checksum": "8571f08babd422624355257868b833c9",
     "grade": false,
     "grade_id": "cell-683f14fe94447508",
     "locked": true,
     "schema_version": 3,
     "solution": false,
     "task": false
    }
   },
   "source": [
    "Finally, we need to loop through each data point to train and score.\n",
    "\n",
    "<div class=\"alert alert-info\" role=\"alert\">\n",
    "<h1>Exercise 4f)</h1>\n",
    "<p>\n",
    "Calculate and store the scores for regular and irregular verbs in the variables `scores_irregular_low` and `scores_regular_low`.\n",
    "    \n",
    "(Points 2)</p>\n",
    "</div>\n"
   ]
  },
  {
   "cell_type": "code",
   "execution_count": 75,
   "id": "e6fa0a3d",
   "metadata": {
    "deletable": false,
    "nbgrader": {
     "cell_type": "code",
     "checksum": "d2db9d12affa2e7f12661835d15cbf7d",
     "grade": false,
     "grade_id": "cell-a44a8190d20f682c",
     "locked": false,
     "schema_version": 3,
     "solution": true,
     "task": false
    }
   },
   "outputs": [
    {
     "name": "stdout",
     "output_type": "stream",
     "text": [
      "0.9320652173913043 0.9478940217391304\n",
      "0.9317708333333332 0.9497735507246375\n",
      "0.9328577898550724 0.9474864130434782\n",
      "0.9306385869565217 0.9476902173913043\n",
      "0.9353940217391304 0.9471240942028986\n",
      "0.9341485507246375 0.9482110507246376\n",
      "0.934782608695652 0.9472599637681159\n",
      "0.933582427536232 0.9479393115942031\n",
      "0.9344202898550725 0.9483242753623188\n",
      "0.9350543478260871 0.9482110507246376\n",
      "0.9323369565217391 0.9505661231884056\n",
      "0.9377264492753623 0.9491168478260869\n",
      "0.9384057971014492 0.94861865942029\n",
      "0.9387907608695653 0.9470788043478261\n",
      "0.938473731884058 0.9482336956521739\n",
      "0.9393115942028986 0.9487092391304349\n",
      "0.9405570652173915 0.9497961956521738\n",
      "0.9404664855072463 0.9480978260869565\n",
      "0.9404891304347824 0.9460144927536233\n",
      "0.9435914855072465 0.9448822463768116\n",
      "0.9430932971014494 0.9459918478260869\n",
      "0.9431159420289855 0.9459465579710145\n",
      "0.9434103260869565 0.9456295289855073\n",
      "0.9433197463768117 0.943455615942029\n",
      "0.9435235507246377 0.9455389492753624\n",
      "0.9445425724637682 0.9468297101449276\n",
      "0.9426177536231884 0.9491847826086955\n",
      "0.944134963768116 0.9497056159420291\n",
      "0.9451766304347826 0.9502490942028986\n",
      "0.9451086956521738 0.9494791666666668\n",
      "0.945901268115942 0.9500679347826088\n",
      "0.9432065217391304 0.9518795289855072\n"
     ]
    }
   ],
   "source": [
    "# loop through the low frequency verbs to train and score the model here\n",
    "#\n",
    "scores_regular_low = []\n",
    "scores_irregular_low = []\n",
    "for i in range(len(base_low_frequency_verbs)):\n",
    "    percept.learn(base_wickel_LF[:,i, np.newaxis], past_wickel_LF[:,i,np.newaxis])\n",
    "    scores_regular_low.append(np.mean(percept.score(base_wickel_regular, past_wickel_regular)))\n",
    "    scores_irregular_low.append(np.mean(percept.score(base_wickel_irregular, past_wickel_irregular)))\n",
    "    print(scores_regular_low[-1], scores_irregular_low[-1])\n",
    "\n",
    "# YOUR CODE HERE\n",
    "#raise NotImplementedError()"
   ]
  },
  {
   "cell_type": "code",
   "execution_count": 76,
   "id": "pretty-diagnosis",
   "metadata": {
    "deletable": false,
    "editable": false,
    "nbgrader": {
     "cell_type": "code",
     "checksum": "ab61148bbbfe310653767e74f3f6fe4c",
     "grade": true,
     "grade_id": "cell-8da05cfda23446c0",
     "locked": true,
     "points": 2,
     "schema_version": 3,
     "solution": false,
     "task": false
    }
   },
   "outputs": [],
   "source": [
    "assert(scores_regular_low[0] == 0.9320652173913043)\n",
    "assert(scores_irregular_low[0] == 0.9478940217391304)\n",
    "assert(scores_regular_low[-1] == 0.9432065217391304)\n",
    "assert(scores_irregular_low[-1] == 0.9518795289855072)"
   ]
  },
  {
   "cell_type": "markdown",
   "id": "21898370",
   "metadata": {
    "deletable": false,
    "editable": false,
    "nbgrader": {
     "cell_type": "markdown",
     "checksum": "a4cc6cac08500d28ce8b50a8b0815b53",
     "grade": false,
     "grade_id": "cell-2c012d15a78f293c",
     "locked": true,
     "schema_version": 3,
     "solution": false,
     "task": false
    }
   },
   "source": [
    "## Putting it all together\n",
    "\n",
    "<div class=\"alert alert-info\" role=\"alert\">\n",
    "<h1>Exercise 5a)</h1>\n",
    "<p>\n",
    "Let's see how well we replicated the U-Shape pattern by plotting the simulation output.\n",
    "    \n",
    "(Points 5)</p>\n",
    "</div>\n",
    "\n",
    "For full credit your code should:\n",
    "\n",
    "- Plot the percent of correct wickelfeatures (Y-axis) as a function of the amount of datapoints trained on for both regular and irregular verbs (use distinct colors please).\n",
    "- Plot dashed vertical lines at 10 and 160 data points to demarcate the three different time periods.\n",
    "- Set labels for both axes.\n",
    "- Set a title for the figure.\n",
    "- Set the plot to span (0.5, 1) for the y-axis and and (0, 192) for the x-axis\n",
    "- Set a legend indicating how colors map to verb type\n",
    "\n",
    "Hint: to concatenate two lists into a bigger list you can use the following syntax:\n",
    "`big_list = one_list + another_list`\n"
   ]
  },
  {
   "cell_type": "markdown",
   "id": "behavioral-smart",
   "metadata": {},
   "source": [
    "### I am assuming that percept.score() returns % of correct wickelfeatures, since in RM1985.py, there is a comment in line 46 that .score() \"returns the percent of correct output nodes\". This is different to how sklearn's score function works, so I hope I'm not wrong :)."
   ]
  },
  {
   "cell_type": "code",
   "execution_count": 81,
   "id": "70526e13",
   "metadata": {
    "deletable": false,
    "nbgrader": {
     "cell_type": "code",
     "checksum": "7dcab5924c94fa0e3bf33495d8b94296",
     "grade": true,
     "grade_id": "cell-210a48308b75e498",
     "locked": false,
     "points": 5,
     "schema_version": 3,
     "solution": true,
     "task": false
    }
   },
   "outputs": [
    {
     "data": {
      "text/plain": [
       "<matplotlib.legend.Legend at 0x7f92b3051c70>"
      ]
     },
     "execution_count": 81,
     "metadata": {},
     "output_type": "execute_result"
    },
    {
     "data": {
      "image/png": "[encoded data removed]",
      "text/plain": [
       "<Figure size 864x432 with 1 Axes>"
      ]
     },
     "metadata": {
      "needs_background": "light"
     },
     "output_type": "display_data"
    }
   ],
   "source": [
    "#Making hf scores follow the convention\n",
    "scores_regular_HF = scores_regular\n",
    "scores_irregular_HF = scores_irregular\n",
    "\n",
    "#Creating list of accuracies across all frequencies for regular and irregular words.\n",
    "regular_words_accuracies = scores_regular_HF + scores_regular_md + scores_regular_low\n",
    "irregular_words_accuracies = scores_irregular_HF + scores_irregular_md + scores_irregular_low\n",
    "\n",
    "#Creating Plot\n",
    "xvals = range(len(regular_words_accuracies))\n",
    "plt.figure(num = 3, figsize = [12,6])\n",
    "plt.title(\"Accuracy of MLP Word Learning Model Over Time\")\n",
    "plt.plot(xvals, regular_words_accuracies, \"b-\", label = \"Regular Past Tense Conjugations\")\n",
    "plt.plot(xvals, irregular_words_accuracies, \"r-\", label = \"Irregular Past Tense Conjugations\")\n",
    "plt.plot([10,10], [0,2], \"k--\", label = \"Phase Transitions\")\n",
    "plt.plot([160,160], [0,2], \"k--\")\n",
    "xpos_midfreq = len(scores_regular_HF) + 1\n",
    "xpos_lowfreq = len(scores_regular_HF) + len(scores_regular_md) + 1\n",
    "plt.xlim(0,192)\n",
    "plt.ylim(0.5,1)\n",
    "plt.xlabel(\"Number of Words Learnt\")\n",
    "plt.ylabel(\"Accuracy\")\n",
    "plt.legend()\n",
    "\n",
    "#raise NotImplementedError()"
   ]
  },
  {
   "cell_type": "markdown",
   "id": "85a73e17",
   "metadata": {
    "deletable": false,
    "editable": false,
    "nbgrader": {
     "cell_type": "markdown",
     "checksum": "a33f990edcc73e6c191cb08d2fd154de",
     "grade": false,
     "grade_id": "cell-9d51d15d2e9d3a1c",
     "locked": true,
     "schema_version": 3,
     "solution": false,
     "task": false
    }
   },
   "source": [
    "<div class=\"alert alert-info\" role=\"alert\">\n",
    "<h1>Exercise 5b)</h1>\n",
    "<p>\n",
    "\n",
    "1) Did we replicate RM's U-shaped curve? Why or why not? Be specific.\n",
    "\n",
    "2) Do you believe this model is a fair model of children's acquisition? Why or why not? Be specific.\n",
    "    \n",
    "(Points 7)</p>\n",
    "</div>\n",
    "\n",
    "For each question make no more than three specific arguments. We will only mark the first three. Feel free to bullet your points. This is not an essay."
   ]
  },
  {
   "attachments": {
    "Screenshot%202022-03-04%20at%204.25.43%20pm.png": {
     "image/png": "[encoded data removed]"
    }
   },
   "cell_type": "markdown",
   "id": "resistant-world",
   "metadata": {},
   "source": [
    "![Screenshot%202022-03-04%20at%204.25.43%20pm.png](attachment:Screenshot%202022-03-04%20at%204.25.43%20pm.png)"
   ]
  },
  {
   "cell_type": "markdown",
   "id": "aabea50e",
   "metadata": {
    "deletable": false,
    "nbgrader": {
     "cell_type": "markdown",
     "checksum": "5437d20d5aa6efd57540b315369fa4f5",
     "grade": true,
     "grade_id": "cell-6975d6c0be6356b0",
     "locked": false,
     "points": 7,
     "schema_version": 3,
     "solution": true,
     "task": false
    }
   },
   "source": [
    "1. The python implemented MLP model replicates some features of the RM1985 model, one of which is mentioned below, but differs from the RM1985 model in many other features, two of which are stated below. I thus conclude that it is not an accurate representation of the RM1985 model.\n",
    "\n",
    "--The implemented model replicates the substantial dip from the trend of accuracy increase found in the RM1985 paper after medium frequency words are introduced. In the implemented model, this dip can be found at ~50 data points.\n",
    "\n",
    "--However, in the RM1985 model, the dip shortly after medium frequency words are introduced, whereas in the implemented model this dip occurs after ~40 medium frequency words are introduced.\n",
    "\n",
    "--Furthermore, only two dips can be seen in the RM1985 model - one after high frequency words are introduced, and one after medium frequency words are introduced. However, in the implemented model, no dips are observed in the high frequency region, and at least four dips are observed in the medium frequency region (at ~20 words, ~50 words, ~100 words and ~150 words). "
   ]
  },
  {
   "cell_type": "markdown",
   "id": "formal-introduction",
   "metadata": {},
   "source": [
    " "
   ]
  },
  {
   "cell_type": "markdown",
   "id": "swedish-effects",
   "metadata": {},
   "source": [
    "2. Below I have stated how the implemented model is similar to the U-shaped idea of a child's word learning. The model recreates some aspects of a child's learning, but differs significantly in others. I would say it the implemented model provides a good high-level prediction of childrens' word learning, but is far from authoritative.\n",
    "\n",
    "-- When the implemented model is learning its first past tense words, its accuracy increases dramatically, just like a child's would.\n",
    "\n",
    "-- When the implemented model is learning medium frequency past tense words, auxiliary drops in accuracy occur between ~20 and ~45 words, and a more substantial is dip is noticed around ~50 words. The model is correct in predicting that a drop would occur, but a child's accuracy would only drop once, more signficantly than the drop around ~50 words.\n",
    "\n",
    "--Once a child has experienced this drop in accuracy, there would be no further significant drops, whereas in the implemented model, smaller drops can be noticed around ~100 and ~150 words."
   ]
  }
 ],
 "metadata": {
  "kernelspec": {
   "display_name": "Python 3 (ipykernel)",
   "language": "python",
   "name": "python3"
  },
  "language_info": {
   "codemirror_mode": {
    "name": "ipython",
    "version": 3
   },
   "file_extension": ".py",
   "mimetype": "text/x-python",
   "name": "python",
   "nbconvert_exporter": "python",
   "pygments_lexer": "ipython3",
   "version": "3.9.13"
  }
 },
 "nbformat": 4,
 "nbformat_minor": 5
}
